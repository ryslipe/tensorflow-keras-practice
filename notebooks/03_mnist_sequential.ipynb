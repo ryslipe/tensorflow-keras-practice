{
 "cells": [
  {
   "cell_type": "markdown",
   "id": "0004bb2f",
   "metadata": {},
   "source": [
    "#### Implementing a Sequential Model on the MNIST Dataset"
   ]
  },
  {
   "cell_type": "code",
   "execution_count": 1,
   "id": "9ae76b89",
   "metadata": {},
   "outputs": [],
   "source": [
    "import tensorflow as tf\n",
    "from tensorflow import keras"
   ]
  },
  {
   "cell_type": "code",
   "execution_count": 2,
   "id": "561d2a0f",
   "metadata": {},
   "outputs": [],
   "source": [
    "import numpy as np"
   ]
  },
  {
   "cell_type": "code",
   "execution_count": 3,
   "id": "ff22cbec",
   "metadata": {},
   "outputs": [
    {
     "data": {
      "text/plain": [
       "'1.24.0'"
      ]
     },
     "execution_count": 3,
     "metadata": {},
     "output_type": "execute_result"
    }
   ],
   "source": [
    "np.__version__"
   ]
  },
  {
   "cell_type": "code",
   "execution_count": 4,
   "id": "9a51dd17",
   "metadata": {},
   "outputs": [
    {
     "data": {
      "text/plain": [
       "'2.10.0'"
      ]
     },
     "execution_count": 4,
     "metadata": {},
     "output_type": "execute_result"
    }
   ],
   "source": [
    "tf.__version__"
   ]
  },
  {
   "cell_type": "code",
   "execution_count": 5,
   "id": "63b93c4a",
   "metadata": {},
   "outputs": [
    {
     "data": {
      "text/plain": [
       "'2.10.0'"
      ]
     },
     "execution_count": 5,
     "metadata": {},
     "output_type": "execute_result"
    }
   ],
   "source": [
    "keras.__version__"
   ]
  },
  {
   "cell_type": "code",
   "execution_count": 6,
   "id": "8f9ef95b",
   "metadata": {},
   "outputs": [],
   "source": [
    "# load mnist\n",
    "mnist = keras.datasets.mnist"
   ]
  },
  {
   "cell_type": "code",
   "execution_count": 19,
   "id": "b79861b7",
   "metadata": {},
   "outputs": [],
   "source": [
    "# create training and testing data\n",
    "(X_train_full, y_train_full), (X_test, y_test) = mnist.load_data()"
   ]
  },
  {
   "cell_type": "code",
   "execution_count": 8,
   "id": "fab950c6",
   "metadata": {},
   "outputs": [
    {
     "data": {
      "text/plain": [
       "(60000, 28, 28)"
      ]
     },
     "execution_count": 8,
     "metadata": {},
     "output_type": "execute_result"
    }
   ],
   "source": [
    "X_train_full.shape"
   ]
  },
  {
   "cell_type": "code",
   "execution_count": 20,
   "id": "58e799bd",
   "metadata": {},
   "outputs": [],
   "source": [
    "# create a validation set \n",
    "X_val, X_train = X_train_full[:5000] / 255.0, X_train_full[5000:] / 255.0\n",
    "\n",
    "y_val, y_train = y_train_full[:5000], y_train_full[5000:]"
   ]
  },
  {
   "cell_type": "code",
   "execution_count": 10,
   "id": "e2a21679",
   "metadata": {},
   "outputs": [
    {
     "data": {
      "text/plain": [
       "7"
      ]
     },
     "execution_count": 10,
     "metadata": {},
     "output_type": "execute_result"
    }
   ],
   "source": [
    "y_train[0]"
   ]
  },
  {
   "cell_type": "code",
   "execution_count": 11,
   "id": "fac3696d",
   "metadata": {},
   "outputs": [
    {
     "data": {
      "image/png": "[encoded data removed]",
      "text/plain": [
       "<Figure size 640x480 with 1 Axes>"
      ]
     },
     "metadata": {},
     "output_type": "display_data"
    }
   ],
   "source": [
    "import matplotlib.pyplot as plt\n",
    "plt.imshow(X_train[0], cmap=\"binary\")\n",
    "plt.axis('off')\n",
    "plt.show()"
   ]
  },
  {
   "cell_type": "code",
   "execution_count": 12,
   "id": "6dacc057",
   "metadata": {},
   "outputs": [
    {
     "data": {
      "text/plain": [
       "'1.24.0'"
      ]
     },
     "execution_count": 12,
     "metadata": {},
     "output_type": "execute_result"
    }
   ],
   "source": [
    "np.__version__"
   ]
  },
  {
   "cell_type": "markdown",
   "id": "76d6b533",
   "metadata": {},
   "source": [
    "### First Sequential Model"
   ]
  },
  {
   "cell_type": "code",
   "execution_count": 21,
   "id": "4dffbc23",
   "metadata": {},
   "outputs": [],
   "source": [
    "model = keras.models.Sequential()\n",
    "model.add(keras.layers.Flatten(input_shape = [28, 28]))\n",
    "model.add(keras.layers.Dense(30, activation = 'relu'))\n",
    "model.add(keras.layers.Dense(30, activation = 'relu'))\n",
    "model.add(keras.layers.Dense(10, activation = 'softmax'))"
   ]
  },
  {
   "cell_type": "code",
   "execution_count": 22,
   "id": "461f16e7",
   "metadata": {},
   "outputs": [],
   "source": [
    "# compile - use sparse categorical because they are not one hot encoded\n",
    "model.compile(optimizer = keras.optimizers.SGD(learning_rate = 1e-2), loss = 'sparse_categorical_crossentropy', metrics = ['accuracy'])"
   ]
  },
  {
   "cell_type": "code",
   "execution_count": 23,
   "id": "d44d0bde",
   "metadata": {},
   "outputs": [
    {
     "name": "stdout",
     "output_type": "stream",
     "text": [
      "Epoch 1/50\n",
      "1719/1719 [==============================] - 3s 2ms/step - loss: 0.8151 - accuracy: 0.7725 - val_loss: 0.3702 - val_accuracy: 0.8982\n",
      "Epoch 2/50\n",
      "1719/1719 [==============================] - 2s 1ms/step - loss: 0.3391 - accuracy: 0.9033 - val_loss: 0.2837 - val_accuracy: 0.9200\n",
      "Epoch 3/50\n",
      "1719/1719 [==============================] - 3s 2ms/step - loss: 0.2790 - accuracy: 0.9193 - val_loss: 0.2475 - val_accuracy: 0.9284\n",
      "Epoch 4/50\n",
      "1719/1719 [==============================] - 2s 1ms/step - loss: 0.2459 - accuracy: 0.9290 - val_loss: 0.2192 - val_accuracy: 0.9360\n",
      "Epoch 5/50\n",
      "1719/1719 [==============================] - 2s 1ms/step - loss: 0.2222 - accuracy: 0.9357 - val_loss: 0.2045 - val_accuracy: 0.9414\n",
      "Epoch 6/50\n",
      "1719/1719 [==============================] - 3s 1ms/step - loss: 0.2039 - accuracy: 0.9408 - val_loss: 0.1879 - val_accuracy: 0.9480\n",
      "Epoch 7/50\n",
      "1719/1719 [==============================] - 2s 1ms/step - loss: 0.1890 - accuracy: 0.9453 - val_loss: 0.1746 - val_accuracy: 0.9516\n",
      "Epoch 8/50\n",
      "1719/1719 [==============================] - 2s 1ms/step - loss: 0.1762 - accuracy: 0.9494 - val_loss: 0.1677 - val_accuracy: 0.9546\n",
      "Epoch 9/50\n",
      "1719/1719 [==============================] - 3s 1ms/step - loss: 0.1651 - accuracy: 0.9524 - val_loss: 0.1600 - val_accuracy: 0.9562\n",
      "Epoch 10/50\n",
      "1719/1719 [==============================] - 2s 1ms/step - loss: 0.1554 - accuracy: 0.9555 - val_loss: 0.1537 - val_accuracy: 0.9560\n",
      "Epoch 11/50\n",
      "1719/1719 [==============================] - 3s 2ms/step - loss: 0.1474 - accuracy: 0.9573 - val_loss: 0.1521 - val_accuracy: 0.9554\n",
      "Epoch 12/50\n",
      "1719/1719 [==============================] - 3s 2ms/step - loss: 0.1401 - accuracy: 0.9595 - val_loss: 0.1436 - val_accuracy: 0.9596\n",
      "Epoch 13/50\n",
      "1719/1719 [==============================] - 3s 2ms/step - loss: 0.1335 - accuracy: 0.9611 - val_loss: 0.1393 - val_accuracy: 0.9620\n",
      "Epoch 14/50\n",
      "1719/1719 [==============================] - 2s 1ms/step - loss: 0.1279 - accuracy: 0.9633 - val_loss: 0.1346 - val_accuracy: 0.9638\n",
      "Epoch 15/50\n",
      "1719/1719 [==============================] - 3s 2ms/step - loss: 0.1231 - accuracy: 0.9646 - val_loss: 0.1316 - val_accuracy: 0.9634\n",
      "Epoch 16/50\n",
      "1719/1719 [==============================] - 2s 1ms/step - loss: 0.1182 - accuracy: 0.9658 - val_loss: 0.1278 - val_accuracy: 0.9644\n",
      "Epoch 17/50\n",
      "1719/1719 [==============================] - 3s 2ms/step - loss: 0.1141 - accuracy: 0.9677 - val_loss: 0.1239 - val_accuracy: 0.9644\n",
      "Epoch 18/50\n",
      "1719/1719 [==============================] - 3s 2ms/step - loss: 0.1103 - accuracy: 0.9689 - val_loss: 0.1286 - val_accuracy: 0.9644\n",
      "Epoch 19/50\n",
      "1719/1719 [==============================] - 7s 4ms/step - loss: 0.1065 - accuracy: 0.9698 - val_loss: 0.1194 - val_accuracy: 0.9670\n",
      "Epoch 20/50\n",
      "1719/1719 [==============================] - 8s 4ms/step - loss: 0.1030 - accuracy: 0.9705 - val_loss: 0.1179 - val_accuracy: 0.9670\n",
      "Epoch 21/50\n",
      "1719/1719 [==============================] - 8s 4ms/step - loss: 0.0995 - accuracy: 0.9717 - val_loss: 0.1169 - val_accuracy: 0.9658\n",
      "Epoch 22/50\n",
      "1719/1719 [==============================] - 8s 4ms/step - loss: 0.0969 - accuracy: 0.9733 - val_loss: 0.1186 - val_accuracy: 0.9652\n",
      "Epoch 23/50\n",
      "1719/1719 [==============================] - 8s 4ms/step - loss: 0.0942 - accuracy: 0.9732 - val_loss: 0.1166 - val_accuracy: 0.9660\n",
      "Epoch 24/50\n",
      "1719/1719 [==============================] - 8s 4ms/step - loss: 0.0911 - accuracy: 0.9741 - val_loss: 0.1184 - val_accuracy: 0.9640\n",
      "Epoch 25/50\n",
      "1719/1719 [==============================] - 8s 5ms/step - loss: 0.0887 - accuracy: 0.9750 - val_loss: 0.1129 - val_accuracy: 0.9652\n",
      "Epoch 26/50\n",
      "1719/1719 [==============================] - 8s 5ms/step - loss: 0.0865 - accuracy: 0.9757 - val_loss: 0.1130 - val_accuracy: 0.9682\n",
      "Epoch 27/50\n",
      "1719/1719 [==============================] - 8s 4ms/step - loss: 0.0847 - accuracy: 0.9758 - val_loss: 0.1123 - val_accuracy: 0.9678\n",
      "Epoch 28/50\n",
      "1719/1719 [==============================] - 7s 4ms/step - loss: 0.0823 - accuracy: 0.9768 - val_loss: 0.1074 - val_accuracy: 0.9688\n",
      "Epoch 29/50\n",
      "1719/1719 [==============================] - 7s 4ms/step - loss: 0.0805 - accuracy: 0.9770 - val_loss: 0.1087 - val_accuracy: 0.9678\n",
      "Epoch 30/50\n",
      "1719/1719 [==============================] - 7s 4ms/step - loss: 0.0783 - accuracy: 0.9775 - val_loss: 0.1083 - val_accuracy: 0.9678\n",
      "Epoch 31/50\n",
      "1719/1719 [==============================] - 8s 4ms/step - loss: 0.0766 - accuracy: 0.9780 - val_loss: 0.1087 - val_accuracy: 0.9694\n",
      "Epoch 32/50\n",
      "1719/1719 [==============================] - 8s 4ms/step - loss: 0.0749 - accuracy: 0.9784 - val_loss: 0.1031 - val_accuracy: 0.9700\n",
      "Epoch 33/50\n",
      "1719/1719 [==============================] - 8s 4ms/step - loss: 0.0731 - accuracy: 0.9788 - val_loss: 0.1081 - val_accuracy: 0.9680\n",
      "Epoch 34/50\n",
      "1719/1719 [==============================] - 8s 4ms/step - loss: 0.0718 - accuracy: 0.9795 - val_loss: 0.1051 - val_accuracy: 0.9702\n",
      "Epoch 35/50\n",
      "1719/1719 [==============================] - 8s 5ms/step - loss: 0.0697 - accuracy: 0.9797 - val_loss: 0.1058 - val_accuracy: 0.9686\n",
      "Epoch 36/50\n",
      "1719/1719 [==============================] - 8s 4ms/step - loss: 0.0682 - accuracy: 0.9801 - val_loss: 0.1047 - val_accuracy: 0.9698\n",
      "Epoch 37/50\n",
      "1719/1719 [==============================] - 7s 4ms/step - loss: 0.0671 - accuracy: 0.9805 - val_loss: 0.1031 - val_accuracy: 0.9702\n",
      "Epoch 38/50\n",
      "1719/1719 [==============================] - 7s 4ms/step - loss: 0.0655 - accuracy: 0.9812 - val_loss: 0.1011 - val_accuracy: 0.9700\n",
      "Epoch 39/50\n",
      "1719/1719 [==============================] - 8s 4ms/step - loss: 0.0643 - accuracy: 0.9815 - val_loss: 0.1044 - val_accuracy: 0.9688\n",
      "Epoch 40/50\n",
      "1719/1719 [==============================] - 7s 4ms/step - loss: 0.0630 - accuracy: 0.9812 - val_loss: 0.1033 - val_accuracy: 0.9704\n",
      "Epoch 41/50\n",
      "1719/1719 [==============================] - 8s 4ms/step - loss: 0.0614 - accuracy: 0.9823 - val_loss: 0.1053 - val_accuracy: 0.9692\n",
      "Epoch 42/50\n",
      "1719/1719 [==============================] - 8s 4ms/step - loss: 0.0604 - accuracy: 0.9822 - val_loss: 0.1074 - val_accuracy: 0.9684\n",
      "Epoch 43/50\n",
      "1719/1719 [==============================] - 7s 4ms/step - loss: 0.0594 - accuracy: 0.9829 - val_loss: 0.1044 - val_accuracy: 0.9686\n",
      "Epoch 44/50\n",
      "1719/1719 [==============================] - 7s 4ms/step - loss: 0.0574 - accuracy: 0.9832 - val_loss: 0.1082 - val_accuracy: 0.9664\n",
      "Epoch 45/50\n",
      "1719/1719 [==============================] - 7s 4ms/step - loss: 0.0571 - accuracy: 0.9833 - val_loss: 0.1028 - val_accuracy: 0.9692\n",
      "Epoch 46/50\n",
      "1719/1719 [==============================] - 8s 4ms/step - loss: 0.0559 - accuracy: 0.9841 - val_loss: 0.1041 - val_accuracy: 0.9694\n",
      "Epoch 47/50\n",
      "1719/1719 [==============================] - 8s 4ms/step - loss: 0.0547 - accuracy: 0.9841 - val_loss: 0.1010 - val_accuracy: 0.9712\n",
      "Epoch 48/50\n",
      "1719/1719 [==============================] - 7s 4ms/step - loss: 0.0540 - accuracy: 0.9843 - val_loss: 0.1016 - val_accuracy: 0.9706\n",
      "Epoch 49/50\n",
      "1719/1719 [==============================] - 7s 4ms/step - loss: 0.0528 - accuracy: 0.9847 - val_loss: 0.1020 - val_accuracy: 0.9710\n",
      "Epoch 50/50\n",
      "1719/1719 [==============================] - 7s 4ms/step - loss: 0.0519 - accuracy: 0.9848 - val_loss: 0.1021 - val_accuracy: 0.9708\n"
     ]
    }
   ],
   "source": [
    "history = model.fit(X_train, y_train, epochs = 50, \n",
    "                    validation_data = (X_val, y_val))"
   ]
  },
  {
   "cell_type": "code",
   "execution_count": null,
   "id": "db70f90a",
   "metadata": {},
   "outputs": [],
   "source": []
  }
 ],
 "metadata": {
  "kernelspec": {
   "display_name": "tensorflow_keras",
   "language": "python",
   "name": "python3"
  },
  "language_info": {
   "codemirror_mode": {
    "name": "ipython",
    "version": 3
   },
   "file_extension": ".py",
   "mimetype": "text/x-python",
   "name": "python",
   "nbconvert_exporter": "python",
   "pygments_lexer": "ipython3",
   "version": "3.10.9"
  }
 },
 "nbformat": 4,
 "nbformat_minor": 5
}
