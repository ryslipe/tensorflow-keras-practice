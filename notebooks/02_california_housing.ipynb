{
 "cells": [
  {
   "cell_type": "markdown",
   "metadata": {},
   "source": [
    "#### California Housing Regression Neural Network"
   ]
  },
  {
   "cell_type": "code",
   "execution_count": 6,
   "metadata": {},
   "outputs": [],
   "source": [
    "import tensorflow as tf\n",
    "from tensorflow import keras\n",
    "import numpy as np\n",
    "import pandas as pd"
   ]
  },
  {
   "cell_type": "code",
   "execution_count": 7,
   "metadata": {},
   "outputs": [],
   "source": [
    "from sklearn.datasets import fetch_california_housing\n",
    "from sklearn.model_selection import train_test_split\n",
    "from sklearn.preprocessing import StandardScaler"
   ]
  },
  {
   "cell_type": "code",
   "execution_count": 8,
   "metadata": {},
   "outputs": [],
   "source": [
    "housing = fetch_california_housing()"
   ]
  },
  {
   "cell_type": "markdown",
   "metadata": {},
   "source": [
    "This is a bunch object which is a special sklearn object\n",
    "It behaves like a dictionary (housing['data'], housing['target']).\n",
    "\n",
    "Contains multiple attributes:\n",
    "\n",
    "housing.data → The actual housing feature data (NumPy array).\n",
    "\n",
    "housing.target → The target values (median house price).\n",
    "\n",
    "housing.feature_names → The names of each feature.\n",
    "\n",
    "housing.DESCR → Description of the dataset."
   ]
  },
  {
   "cell_type": "code",
   "execution_count": 9,
   "metadata": {},
   "outputs": [],
   "source": [
    "# train test split of housing data which is a numpy array\n",
    "X_train_full, X_test, y_train_full, y_test= train_test_split(housing.data, housing.target, test_size=0.25, random_state= 42)\n",
    "\n",
    "# make a validation set for the compiling\n",
    "X_train, X_valid, y_train, y_valid = train_test_split(X_train_full, y_train_full, test_size=0.25, random_state=42)"
   ]
  },
  {
   "cell_type": "code",
   "execution_count": 10,
   "metadata": {},
   "outputs": [],
   "source": [
    "# scale the data\n",
    "scaler = StandardScaler()\n",
    "X_train = scaler.fit_transform(X_train)\n",
    "X_valid = scaler.fit_transform(X_valid)\n",
    "X_test = scaler.transform(X_test)"
   ]
  },
  {
   "cell_type": "markdown",
   "metadata": {},
   "source": [
    "#### Creating the Sequential Model"
   ]
  },
  {
   "cell_type": "code",
   "execution_count": 11,
   "metadata": {},
   "outputs": [],
   "source": [
    "# create a model \n",
    "model = keras.models.Sequential([\n",
    "    keras.layers.Dense(30, activation='relu', input_shape = X_train.shape[1:]),\n",
    "    keras.layers.Dense(1)\n",
    "])"
   ]
  },
  {
   "cell_type": "code",
   "execution_count": 12,
   "metadata": {},
   "outputs": [],
   "source": [
    "# compile\n",
    "model.compile(loss = 'mean_squared_error', optimizer = 'sgd')"
   ]
  },
  {
   "cell_type": "code",
   "execution_count": 13,
   "metadata": {},
   "outputs": [
    {
     "name": "stdout",
     "output_type": "stream",
     "text": [
      "Epoch 1/30\n",
      "363/363 [==============================] - 1s 2ms/step - loss: 0.6934 - val_loss: 0.5099\n",
      "Epoch 2/30\n",
      "363/363 [==============================] - 0s 1ms/step - loss: 0.4431 - val_loss: 0.4627\n",
      "Epoch 3/30\n",
      "363/363 [==============================] - 1s 1ms/step - loss: 0.4253 - val_loss: 0.5128\n",
      "Epoch 4/30\n",
      "363/363 [==============================] - 0s 1ms/step - loss: 0.4605 - val_loss: 0.6209\n",
      "Epoch 5/30\n",
      "363/363 [==============================] - 0s 1ms/step - loss: 0.6051 - val_loss: 0.4936\n",
      "Epoch 6/30\n",
      "363/363 [==============================] - 0s 1ms/step - loss: 0.4274 - val_loss: 0.4637\n",
      "Epoch 7/30\n",
      "363/363 [==============================] - 0s 1ms/step - loss: 0.4101 - val_loss: 0.4414\n",
      "Epoch 8/30\n",
      "363/363 [==============================] - 0s 1ms/step - loss: 0.3894 - val_loss: 0.4322\n",
      "Epoch 9/30\n",
      "363/363 [==============================] - 0s 1ms/step - loss: 0.3835 - val_loss: 0.4377\n",
      "Epoch 10/30\n",
      "363/363 [==============================] - 0s 1ms/step - loss: 0.3776 - val_loss: 0.4274\n",
      "Epoch 11/30\n",
      "363/363 [==============================] - 0s 1ms/step - loss: 0.3753 - val_loss: 0.4268\n",
      "Epoch 12/30\n",
      "363/363 [==============================] - 0s 1ms/step - loss: 0.3706 - val_loss: 0.4319\n",
      "Epoch 13/30\n",
      "363/363 [==============================] - 0s 1ms/step - loss: 0.3693 - val_loss: 0.4367\n",
      "Epoch 14/30\n",
      "363/363 [==============================] - 0s 1ms/step - loss: 0.3662 - val_loss: 0.4263\n",
      "Epoch 15/30\n",
      "363/363 [==============================] - 0s 1ms/step - loss: 0.3648 - val_loss: 0.4228\n",
      "Epoch 16/30\n",
      "363/363 [==============================] - 0s 1ms/step - loss: 0.3627 - val_loss: 0.4226\n",
      "Epoch 17/30\n",
      "363/363 [==============================] - 0s 1ms/step - loss: 0.3601 - val_loss: 0.4268\n",
      "Epoch 18/30\n",
      "363/363 [==============================] - 0s 1ms/step - loss: 0.3581 - val_loss: 0.4264\n",
      "Epoch 19/30\n",
      "363/363 [==============================] - 0s 1ms/step - loss: 0.3577 - val_loss: 0.4182\n",
      "Epoch 20/30\n",
      "363/363 [==============================] - 0s 1ms/step - loss: 0.3582 - val_loss: 0.4293\n",
      "Epoch 21/30\n",
      "363/363 [==============================] - 0s 1ms/step - loss: 0.3543 - val_loss: 0.4153\n",
      "Epoch 22/30\n",
      "363/363 [==============================] - 0s 1ms/step - loss: 0.3533 - val_loss: 0.4173\n",
      "Epoch 23/30\n",
      "363/363 [==============================] - 0s 1ms/step - loss: 0.3531 - val_loss: 0.4174\n",
      "Epoch 24/30\n",
      "363/363 [==============================] - 0s 1ms/step - loss: 0.3499 - val_loss: 0.4406\n",
      "Epoch 25/30\n",
      "363/363 [==============================] - 0s 1ms/step - loss: 0.3498 - val_loss: 0.4252\n",
      "Epoch 26/30\n",
      "363/363 [==============================] - 0s 1ms/step - loss: 0.3477 - val_loss: 0.4168\n",
      "Epoch 27/30\n",
      "363/363 [==============================] - 0s 1ms/step - loss: 0.3517 - val_loss: 0.4167\n",
      "Epoch 28/30\n",
      "363/363 [==============================] - 0s 1ms/step - loss: 0.3469 - val_loss: 0.4237\n",
      "Epoch 29/30\n",
      "363/363 [==============================] - 0s 1ms/step - loss: 0.3464 - val_loss: 0.4131\n",
      "Epoch 30/30\n",
      "363/363 [==============================] - 0s 1ms/step - loss: 0.3442 - val_loss: 0.4123\n"
     ]
    }
   ],
   "source": [
    "# fit the model save as history\n",
    "history = model.fit(X_train, y_train, epochs = 30, validation_data = (X_valid, y_valid))"
   ]
  },
  {
   "cell_type": "code",
   "execution_count": 14,
   "metadata": {},
   "outputs": [],
   "source": [
    "import matplotlib.pyplot as plt"
   ]
  },
  {
   "cell_type": "code",
   "execution_count": 15,
   "metadata": {},
   "outputs": [
    {
     "data": {
      "image/png": "[encoded data removed]",
      "text/plain": [
       "<Figure size 800x500 with 1 Axes>"
      ]
     },
     "metadata": {},
     "output_type": "display_data"
    }
   ],
   "source": [
    "import pandas as pd\n",
    "\n",
    "pd.DataFrame(history.history).plot(figsize = (8, 5))\n",
    "plt.grid(True)\n",
    "plt.gca().set_ylim(0, 1)\n",
    "plt.show()"
   ]
  },
  {
   "cell_type": "code",
   "execution_count": 16,
   "metadata": {},
   "outputs": [
    {
     "name": "stdout",
     "output_type": "stream",
     "text": [
      "1/1 [==============================] - 0s 76ms/step\n"
     ]
    }
   ],
   "source": [
    "# make fake new houses\n",
    "X_new = X_test[:3]\n",
    "y_pred = model.predict(X_new)"
   ]
  },
  {
   "cell_type": "code",
   "execution_count": 17,
   "metadata": {},
   "outputs": [
    {
     "data": {
      "text/plain": [
       "array([[0.6190179],\n",
       "       [1.7084866],\n",
       "       [3.0323572]], dtype=float32)"
      ]
     },
     "execution_count": 17,
     "metadata": {},
     "output_type": "execute_result"
    }
   ],
   "source": [
    "y_pred"
   ]
  },
  {
   "cell_type": "code",
   "execution_count": 18,
   "metadata": {},
   "outputs": [
    {
     "data": {
      "text/plain": [
       "array([0.477  , 0.458  , 5.00001])"
      ]
     },
     "execution_count": 18,
     "metadata": {},
     "output_type": "execute_result"
    }
   ],
   "source": [
    "# compare them\n",
    "y_test[:3]"
   ]
  },
  {
   "cell_type": "markdown",
   "metadata": {},
   "source": [
    "#### Nonsequential Network"
   ]
  },
  {
   "cell_type": "markdown",
   "metadata": {},
   "source": [
    "One example is when the input layer connects all or part of the inputs directly to the output layer so that the neural network can learn both deep patterns and simple patterns. This is because the deep patterns are learned going the sequential route and the simple patterns are caught by jumping to the output layer."
   ]
  },
  {
   "cell_type": "code",
   "execution_count": 36,
   "metadata": {},
   "outputs": [],
   "source": [
    "# nonsequential build\n",
    "input_ = keras.layers.Input(shape = X_train.shape[1:])\n",
    "# pass the input to this hidden layer with 30 neurons\n",
    "hidden_1 = keras.layers.Dense(30, activation='relu')(input_)\n",
    "# pass the output from the first hidden layer to this hidden layer\n",
    "hidden_2 = keras.layers.Dense(30, activation='relu')(hidden_1)\n",
    "# concatenate the input and the ouput of the second hidden layer\n",
    "concat = keras.layers.Concatenate()([input_, hidden_2])\n",
    "# pass in the result of the concatenation to this output layer\n",
    "output = keras.layers.Dense(1)(concat)\n",
    "model = keras.Model(inputs = [input_], outputs = [output])"
   ]
  },
  {
   "cell_type": "code",
   "execution_count": 37,
   "metadata": {},
   "outputs": [
    {
     "name": "stdout",
     "output_type": "stream",
     "text": [
      "Model: \"model_2\"\n",
      "__________________________________________________________________________________________________\n",
      " Layer (type)                   Output Shape         Param #     Connected to                     \n",
      "==================================================================================================\n",
      " input_2 (InputLayer)           [(None, 8)]          0           []                               \n",
      "                                                                                                  \n",
      " dense_7 (Dense)                (None, 30)           270         ['input_2[0][0]']                \n",
      "                                                                                                  \n",
      " dense_8 (Dense)                (None, 30)           930         ['dense_7[0][0]']                \n",
      "                                                                                                  \n",
      " concatenate_2 (Concatenate)    (None, 38)           0           ['input_2[0][0]',                \n",
      "                                                                  'dense_8[0][0]']                \n",
      "                                                                                                  \n",
      " dense_9 (Dense)                (None, 1)            39          ['concatenate_2[0][0]']          \n",
      "                                                                                                  \n",
      "==================================================================================================\n",
      "Total params: 1,239\n",
      "Trainable params: 1,239\n",
      "Non-trainable params: 0\n",
      "__________________________________________________________________________________________________\n"
     ]
    }
   ],
   "source": [
    "model.summary()"
   ]
  },
  {
   "cell_type": "code",
   "execution_count": 38,
   "metadata": {},
   "outputs": [],
   "source": [
    "# compile this model\n",
    "model.compile(loss=\"mean_squared_error\", optimizer=keras.optimizers.SGD(learning_rate=1e-3))"
   ]
  },
  {
   "cell_type": "code",
   "execution_count": 39,
   "metadata": {},
   "outputs": [
    {
     "name": "stdout",
     "output_type": "stream",
     "text": [
      "Epoch 1/20\n",
      "363/363 [==============================] - 1s 2ms/step - loss: 2.1412 - val_loss: 1.5670\n",
      "Epoch 2/20\n",
      "363/363 [==============================] - 1s 2ms/step - loss: 0.9188 - val_loss: 0.7416\n",
      "Epoch 3/20\n",
      "363/363 [==============================] - 1s 2ms/step - loss: 0.6418 - val_loss: 0.6481\n",
      "Epoch 4/20\n",
      "363/363 [==============================] - 1s 2ms/step - loss: 0.6025 - val_loss: 0.6264\n",
      "Epoch 5/20\n",
      "363/363 [==============================] - 1s 1ms/step - loss: 0.5751 - val_loss: 0.6091\n",
      "Epoch 6/20\n",
      "363/363 [==============================] - 1s 1ms/step - loss: 0.5519 - val_loss: 0.5919\n",
      "Epoch 7/20\n",
      "363/363 [==============================] - 1s 1ms/step - loss: 0.5328 - val_loss: 0.5672\n",
      "Epoch 8/20\n",
      "363/363 [==============================] - 1s 2ms/step - loss: 0.5160 - val_loss: 0.5500\n",
      "Epoch 9/20\n",
      "363/363 [==============================] - 1s 2ms/step - loss: 0.5007 - val_loss: 0.5406\n",
      "Epoch 10/20\n",
      "363/363 [==============================] - 1s 1ms/step - loss: 0.4882 - val_loss: 0.5233\n",
      "Epoch 11/20\n",
      "363/363 [==============================] - 1s 2ms/step - loss: 0.4764 - val_loss: 0.5172\n",
      "Epoch 12/20\n",
      "363/363 [==============================] - 1s 1ms/step - loss: 0.4669 - val_loss: 0.5073\n",
      "Epoch 13/20\n",
      "363/363 [==============================] - 1s 1ms/step - loss: 0.4583 - val_loss: 0.5021\n",
      "Epoch 14/20\n",
      "363/363 [==============================] - 1s 2ms/step - loss: 0.4504 - val_loss: 0.4939\n",
      "Epoch 15/20\n",
      "363/363 [==============================] - 1s 2ms/step - loss: 0.4437 - val_loss: 0.4898\n",
      "Epoch 16/20\n",
      "363/363 [==============================] - 1s 1ms/step - loss: 0.4375 - val_loss: 0.4841\n",
      "Epoch 17/20\n",
      "363/363 [==============================] - 1s 2ms/step - loss: 0.4320 - val_loss: 0.4792\n",
      "Epoch 18/20\n",
      "363/363 [==============================] - 0s 1ms/step - loss: 0.4271 - val_loss: 0.4760\n",
      "Epoch 19/20\n",
      "363/363 [==============================] - 1s 1ms/step - loss: 0.4226 - val_loss: 0.4741\n",
      "Epoch 20/20\n",
      "363/363 [==============================] - 1s 1ms/step - loss: 0.4184 - val_loss: 0.4687\n"
     ]
    }
   ],
   "source": [
    "history = model.fit(X_train, y_train, epochs=20, validation_data=(X_valid, y_valid))"
   ]
  },
  {
   "cell_type": "code",
   "execution_count": 41,
   "metadata": {},
   "outputs": [
    {
     "name": "stdout",
     "output_type": "stream",
     "text": [
      "162/162 [==============================] - 0s 961us/step - loss: 0.4903\n"
     ]
    },
    {
     "data": {
      "text/plain": [
       "0.4903166592121124"
      ]
     },
     "execution_count": 41,
     "metadata": {},
     "output_type": "execute_result"
    }
   ],
   "source": [
    "# mse on testing\n",
    "model.evaluate(X_test, y_test)"
   ]
  },
  {
   "cell_type": "code",
   "execution_count": 42,
   "metadata": {},
   "outputs": [
    {
     "name": "stdout",
     "output_type": "stream",
     "text": [
      "1/1 [==============================] - 0s 128ms/step\n"
     ]
    },
    {
     "data": {
      "text/plain": [
       "array([[0.56534386],\n",
       "       [1.7663002 ],\n",
       "       [2.8565946 ]], dtype=float32)"
      ]
     },
     "execution_count": 42,
     "metadata": {},
     "output_type": "execute_result"
    }
   ],
   "source": [
    "model.predict(X_test[:3])"
   ]
  },
  {
   "cell_type": "markdown",
   "metadata": {},
   "source": [
    "#### Subsetting the Wide and Deep Paths"
   ]
  },
  {
   "cell_type": "markdown",
   "metadata": {},
   "source": [
    "We can send some data only through the wide path for the simple relationships and then send a different subset through the deep path to learn the more complex relationships. Often times we may want the features to overlap."
   ]
  },
  {
   "cell_type": "code",
   "execution_count": 43,
   "metadata": {},
   "outputs": [],
   "source": [
    "# subsetting the deep and wide paths\n",
    "\n",
    "# create input A for the wide path (wont go through all layers)\n",
    "# takes shape = [5] for 5 features\n",
    "input_A = keras.layers.Input(shape = [5], name = 'wide_input')\n",
    "# create input B which goes the deep path and has 6 features\n",
    "input_B = keras.layers.Input(shape = [6], name = 'deep_input')\n",
    "hidden_1 = keras.layers.Dense(30, activation='relu')(input_B)\n",
    "hidden_2 = keras.layers.Dense(30, activation='relu')(hidden_1)\n",
    "# concatenate layer takes the wide path and output from deep path\n",
    "concat = keras.layers.Concatenate()([input_A, hidden_2])\n",
    "# single output for house price\n",
    "output = keras.layers.Dense(1, name = 'ouput')(concat)\n",
    "\n",
    "# make the model\n",
    "model = keras.Model(inputs = [input_A, input_B], outputs = [output])"
   ]
  },
  {
   "cell_type": "markdown",
   "metadata": {},
   "source": [
    "When we compile this model it is the same process but when we fit it we have to fit it to the two subsets. This means we first need to make the two subsets. We will also need to make the \"new\" data which is just the first three rows of the data that have already been reshaped.\n",
    "\n",
    "Input A uses the first 5 features and Input B uses the last 6 so there is some overlap here. Both subsets will use features 2, 3, 4 and 5. "
   ]
  },
  {
   "cell_type": "code",
   "execution_count": 44,
   "metadata": {},
   "outputs": [],
   "source": [
    "# create the X train and valid sets for each subset\n",
    "X_train_A, X_train_B = X_train[:, :5], X_train[:, 2:]\n",
    "\n",
    "# create validation for each \n",
    "X_valid_A, X_valid_B = X_valid[:, :5], X_valid[:, 2:]\n",
    "\n",
    "# create the correct test data\n",
    "X_test_A, X_test_B = X_test[:, :5], X_test[:, 2:]\n",
    "\n",
    "\n",
    "# this is for making the predictions later\n",
    "X_new_A, X_new_B = X_test_A[:3], X_test_B[:3]"
   ]
  },
  {
   "cell_type": "code",
   "execution_count": 45,
   "metadata": {},
   "outputs": [],
   "source": [
    "model.compile(loss = 'mean_squared_error', optimizer = keras.optimizers.SGD(learning_rate = 1e-3))"
   ]
  },
  {
   "cell_type": "markdown",
   "metadata": {},
   "source": [
    "Below we show both ways to call model.fit with multiple inputs. We can pass them as a dictionary or a tuple."
   ]
  },
  {
   "cell_type": "code",
   "execution_count": 46,
   "metadata": {},
   "outputs": [
    {
     "name": "stdout",
     "output_type": "stream",
     "text": [
      "Epoch 1/20\n",
      "363/363 [==============================] - 1s 2ms/step - loss: 2.1374 - val_loss: 0.8561\n",
      "Epoch 2/20\n",
      "363/363 [==============================] - 1s 2ms/step - loss: 0.8008 - val_loss: 0.7111\n",
      "Epoch 3/20\n",
      "363/363 [==============================] - 1s 2ms/step - loss: 0.7005 - val_loss: 0.6522\n",
      "Epoch 4/20\n",
      "363/363 [==============================] - 1s 2ms/step - loss: 0.6532 - val_loss: 0.6202\n",
      "Epoch 5/20\n",
      "363/363 [==============================] - 1s 2ms/step - loss: 0.6207 - val_loss: 0.5972\n",
      "Epoch 6/20\n",
      "363/363 [==============================] - 1s 2ms/step - loss: 0.5954 - val_loss: 0.5772\n",
      "Epoch 7/20\n",
      "363/363 [==============================] - 1s 2ms/step - loss: 0.5738 - val_loss: 0.5603\n",
      "Epoch 8/20\n",
      "363/363 [==============================] - 1s 2ms/step - loss: 0.5550 - val_loss: 0.5471\n",
      "Epoch 9/20\n",
      "363/363 [==============================] - 1s 2ms/step - loss: 0.5386 - val_loss: 0.5345\n",
      "Epoch 10/20\n",
      "363/363 [==============================] - 1s 1ms/step - loss: 0.5238 - val_loss: 0.5230\n",
      "Epoch 11/20\n",
      "363/363 [==============================] - 1s 2ms/step - loss: 0.5106 - val_loss: 0.5158\n",
      "Epoch 12/20\n",
      "363/363 [==============================] - 1s 1ms/step - loss: 0.4990 - val_loss: 0.5091\n",
      "Epoch 13/20\n",
      "363/363 [==============================] - 1s 2ms/step - loss: 0.4889 - val_loss: 0.5024\n",
      "Epoch 14/20\n",
      "363/363 [==============================] - 1s 2ms/step - loss: 0.4798 - val_loss: 0.4945\n",
      "Epoch 15/20\n",
      "363/363 [==============================] - 1s 2ms/step - loss: 0.4722 - val_loss: 0.4941\n",
      "Epoch 16/20\n",
      "363/363 [==============================] - 1s 2ms/step - loss: 0.4656 - val_loss: 0.4895\n",
      "Epoch 17/20\n",
      "363/363 [==============================] - 1s 2ms/step - loss: 0.4595 - val_loss: 0.4859\n",
      "Epoch 18/20\n",
      "363/363 [==============================] - 1s 2ms/step - loss: 0.4538 - val_loss: 0.4839\n",
      "Epoch 19/20\n",
      "363/363 [==============================] - 1s 2ms/step - loss: 0.4490 - val_loss: 0.4817\n",
      "Epoch 20/20\n",
      "363/363 [==============================] - 1s 2ms/step - loss: 0.4448 - val_loss: 0.4793\n"
     ]
    }
   ],
   "source": [
    "history = model.fit({'wide_input': X_train_A, 'deep_input': X_train_B}, y_train, epochs = 20,\n",
    "                     validation_data = ({'wide_input': X_valid_A, 'deep_input': X_valid_B}, y_valid))"
   ]
  },
  {
   "cell_type": "code",
   "execution_count": 28,
   "metadata": {},
   "outputs": [
    {
     "name": "stdout",
     "output_type": "stream",
     "text": [
      "Epoch 1/30\n",
      "363/363 [==============================] - 1s 2ms/step - loss: 2.0847 - val_loss: 0.8919\n",
      "Epoch 2/30\n",
      "363/363 [==============================] - 1s 2ms/step - loss: 0.7489 - val_loss: 0.6893\n",
      "Epoch 3/30\n",
      "363/363 [==============================] - 1s 2ms/step - loss: 0.6556 - val_loss: 0.6444\n",
      "Epoch 4/30\n",
      "363/363 [==============================] - 1s 2ms/step - loss: 0.6142 - val_loss: 0.6057\n",
      "Epoch 5/30\n",
      "363/363 [==============================] - 1s 1ms/step - loss: 0.5821 - val_loss: 0.5811\n",
      "Epoch 6/30\n",
      "363/363 [==============================] - 1s 1ms/step - loss: 0.5545 - val_loss: 0.5594\n",
      "Epoch 7/30\n",
      "363/363 [==============================] - 1s 2ms/step - loss: 0.5312 - val_loss: 0.5431\n",
      "Epoch 8/30\n",
      "363/363 [==============================] - 1s 2ms/step - loss: 0.5116 - val_loss: 0.5289\n",
      "Epoch 9/30\n",
      "363/363 [==============================] - 1s 2ms/step - loss: 0.4958 - val_loss: 0.5196\n",
      "Epoch 10/30\n",
      "363/363 [==============================] - 1s 2ms/step - loss: 0.4831 - val_loss: 0.5101\n",
      "Epoch 11/30\n",
      "363/363 [==============================] - 1s 1ms/step - loss: 0.4731 - val_loss: 0.4997\n",
      "Epoch 12/30\n",
      "363/363 [==============================] - 1s 2ms/step - loss: 0.4646 - val_loss: 0.4947\n",
      "Epoch 13/30\n",
      "363/363 [==============================] - 1s 2ms/step - loss: 0.4579 - val_loss: 0.4884\n",
      "Epoch 14/30\n",
      "363/363 [==============================] - 1s 1ms/step - loss: 0.4522 - val_loss: 0.4832\n",
      "Epoch 15/30\n",
      "363/363 [==============================] - 1s 1ms/step - loss: 0.4477 - val_loss: 0.4786\n",
      "Epoch 16/30\n",
      "363/363 [==============================] - 1s 2ms/step - loss: 0.4438 - val_loss: 0.4783\n",
      "Epoch 17/30\n",
      "363/363 [==============================] - 1s 2ms/step - loss: 0.4402 - val_loss: 0.4757\n",
      "Epoch 18/30\n",
      "363/363 [==============================] - 1s 2ms/step - loss: 0.4373 - val_loss: 0.4741\n",
      "Epoch 19/30\n",
      "363/363 [==============================] - 1s 1ms/step - loss: 0.4344 - val_loss: 0.4716\n",
      "Epoch 20/30\n",
      "363/363 [==============================] - 1s 2ms/step - loss: 0.4323 - val_loss: 0.4703\n",
      "Epoch 21/30\n",
      "363/363 [==============================] - 1s 2ms/step - loss: 0.4298 - val_loss: 0.4679\n",
      "Epoch 22/30\n",
      "363/363 [==============================] - 1s 2ms/step - loss: 0.4275 - val_loss: 0.4653\n",
      "Epoch 23/30\n",
      "363/363 [==============================] - 1s 2ms/step - loss: 0.4257 - val_loss: 0.4655\n",
      "Epoch 24/30\n",
      "363/363 [==============================] - 1s 2ms/step - loss: 0.4237 - val_loss: 0.4636\n",
      "Epoch 25/30\n",
      "363/363 [==============================] - 1s 2ms/step - loss: 0.4223 - val_loss: 0.4626\n",
      "Epoch 26/30\n",
      "363/363 [==============================] - 1s 2ms/step - loss: 0.4206 - val_loss: 0.4639\n",
      "Epoch 27/30\n",
      "363/363 [==============================] - 1s 1ms/step - loss: 0.4191 - val_loss: 0.4647\n",
      "Epoch 28/30\n",
      "363/363 [==============================] - 1s 1ms/step - loss: 0.4180 - val_loss: 0.4598\n",
      "Epoch 29/30\n",
      "363/363 [==============================] - 1s 2ms/step - loss: 0.4166 - val_loss: 0.4585\n",
      "Epoch 30/30\n",
      "363/363 [==============================] - 1s 2ms/step - loss: 0.4152 - val_loss: 0.4599\n"
     ]
    }
   ],
   "source": [
    "# create the history \n",
    "history = model.fit((X_train_A, X_train_B), y_train, epochs = 30,\n",
    "                    validation_data = ((X_valid_A, X_valid_B), y_valid))"
   ]
  },
  {
   "cell_type": "code",
   "execution_count": 29,
   "metadata": {},
   "outputs": [
    {
     "name": "stdout",
     "output_type": "stream",
     "text": [
      "162/162 [==============================] - 0s 1ms/step - loss: 0.4818\n"
     ]
    }
   ],
   "source": [
    "# testing data\n",
    "mse_test = model.evaluate((X_test_A, X_test_B), y_test)"
   ]
  },
  {
   "cell_type": "markdown",
   "metadata": {},
   "source": [
    "As is often the case, the testing data performs slightly worse than the validation data but not by much so it is not overfitting. "
   ]
  },
  {
   "cell_type": "code",
   "execution_count": 30,
   "metadata": {},
   "outputs": [
    {
     "data": {
      "text/plain": [
       "0.48181331157684326"
      ]
     },
     "execution_count": 30,
     "metadata": {},
     "output_type": "execute_result"
    }
   ],
   "source": [
    "mse_test"
   ]
  },
  {
   "cell_type": "code",
   "execution_count": 35,
   "metadata": {},
   "outputs": [
    {
     "name": "stdout",
     "output_type": "stream",
     "text": [
      "1/1 [==============================] - 0s 20ms/step\n"
     ]
    },
    {
     "data": {
      "text/plain": [
       "array([[0.6114548],\n",
       "       [1.9770505],\n",
       "       [2.761712 ]], dtype=float32)"
      ]
     },
     "execution_count": 35,
     "metadata": {},
     "output_type": "execute_result"
    }
   ],
   "source": [
    "# make predictions\n",
    "model.predict((X_new_A, X_new_B))"
   ]
  },
  {
   "cell_type": "markdown",
   "metadata": {},
   "source": [
    "#### Multiple Outputs"
   ]
  },
  {
   "cell_type": "markdown",
   "metadata": {},
   "source": [
    "Sometimes we may have to take multiple inputs. If we are trying to locate and classify the main object in a picture it is a regression task to find the coordinates of the objects center along with the width and height, and a classification task.\n",
    "\n",
    "We can also have a single neural network responsible for many different individual tasks such as a multiclass classification network where output 1 determines the center of an image and output 2 determines the facial expression.\n",
    "\n",
    "We can also add an auxilary output as a regularization technique. This will avoid the concatenation which makes the model learn from the neural network without being put in a layer wiht the inputs at the end (pg. 312)"
   ]
  },
  {
   "cell_type": "code",
   "execution_count": 56,
   "metadata": {},
   "outputs": [],
   "source": [
    "# adding auxilary output\n",
    "input_A = keras.layers.Input(shape = [5], name = 'wide_input')\n",
    "input_B = keras.layers.Input(shape = [6], name = 'deep_input')\n",
    "\n",
    "# input_B goes deep\n",
    "hidden_1 = keras.layers.Dense(30, activation='relu')(input_B)\n",
    "hidden_2 = keras.layers.Dense(30, activation='relu')(hidden_1)\n",
    "\n",
    "# input A jumps here\n",
    "concat = keras.layers.concatenate([input_A, hidden_2])\n",
    "# main output is deep and wide inputs\n",
    "output = keras.layers.Dense(1, name = 'main_output')(concat)\n",
    "\n",
    "# splits away from concat layer after the hidden layer 2\n",
    "aux_output = keras.layers.Dense(1, name = 'aux_output')(hidden_2)\n",
    "\n",
    "# create model with two inputs and two outputs\n",
    "model = keras.models.Model(inputs = [input_A, input_B], outputs = [output, aux_output])"
   ]
  },
  {
   "cell_type": "markdown",
   "metadata": {},
   "source": [
    "Each output is added up with their own loss function at the end of training. Since the auxilary output is just used for regularization we want to set wieghts to these different losses which is possible."
   ]
  },
  {
   "cell_type": "code",
   "execution_count": 57,
   "metadata": {},
   "outputs": [],
   "source": [
    "model.compile(optimizer = keras.optimizers.SGD(learning_rate=1e-3), loss = ['mse', 'mse'], loss_weights=[0.9, 0.1])"
   ]
  },
  {
   "cell_type": "markdown",
   "metadata": {},
   "source": [
    "Below I used both the dictionary naming convention when fitting the model and also the list convention. Your choice."
   ]
  },
  {
   "cell_type": "code",
   "execution_count": 58,
   "metadata": {},
   "outputs": [
    {
     "name": "stdout",
     "output_type": "stream",
     "text": [
      "Epoch 1/20\n",
      "363/363 [==============================] - 1s 2ms/step - loss: 2.6664 - main_output_loss: 2.4374 - aux_output_loss: 4.7277 - val_loss: 1.2146 - val_main_output_loss: 0.9676 - val_aux_output_loss: 3.4375\n",
      "Epoch 2/20\n",
      "363/363 [==============================] - 1s 2ms/step - loss: 1.0694 - main_output_loss: 0.8727 - aux_output_loss: 2.8395 - val_loss: 0.8960 - val_main_output_loss: 0.7520 - val_aux_output_loss: 2.1912\n",
      "Epoch 3/20\n",
      "363/363 [==============================] - 1s 2ms/step - loss: 0.8668 - main_output_loss: 0.7435 - aux_output_loss: 1.9759 - val_loss: 0.7884 - val_main_output_loss: 0.6887 - val_aux_output_loss: 1.6853\n",
      "Epoch 4/20\n",
      "363/363 [==============================] - 1s 2ms/step - loss: 0.7789 - main_output_loss: 0.6857 - aux_output_loss: 1.6170 - val_loss: 0.7328 - val_main_output_loss: 0.6492 - val_aux_output_loss: 1.4855\n",
      "Epoch 5/20\n",
      "363/363 [==============================] - 1s 2ms/step - loss: 0.7294 - main_output_loss: 0.6481 - aux_output_loss: 1.4613 - val_loss: 0.6964 - val_main_output_loss: 0.6180 - val_aux_output_loss: 1.4014\n",
      "Epoch 6/20\n",
      "363/363 [==============================] - 1s 2ms/step - loss: 0.6965 - main_output_loss: 0.6200 - aux_output_loss: 1.3853 - val_loss: 0.6748 - val_main_output_loss: 0.5993 - val_aux_output_loss: 1.3541\n",
      "Epoch 7/20\n",
      "363/363 [==============================] - 1s 2ms/step - loss: 0.6718 - main_output_loss: 0.5978 - aux_output_loss: 1.3376 - val_loss: 0.6571 - val_main_output_loss: 0.5831 - val_aux_output_loss: 1.3239\n",
      "Epoch 8/20\n",
      "363/363 [==============================] - 1s 2ms/step - loss: 0.6516 - main_output_loss: 0.5793 - aux_output_loss: 1.3032 - val_loss: 0.6474 - val_main_output_loss: 0.5750 - val_aux_output_loss: 1.2990\n",
      "Epoch 9/20\n",
      "363/363 [==============================] - 1s 2ms/step - loss: 0.6350 - main_output_loss: 0.5640 - aux_output_loss: 1.2740 - val_loss: 0.6334 - val_main_output_loss: 0.5619 - val_aux_output_loss: 1.2770\n",
      "Epoch 10/20\n",
      "363/363 [==============================] - 1s 2ms/step - loss: 0.6203 - main_output_loss: 0.5504 - aux_output_loss: 1.2492 - val_loss: 0.6234 - val_main_output_loss: 0.5530 - val_aux_output_loss: 1.2564\n",
      "Epoch 11/20\n",
      "363/363 [==============================] - 1s 2ms/step - loss: 0.6071 - main_output_loss: 0.5385 - aux_output_loss: 1.2252 - val_loss: 0.6148 - val_main_output_loss: 0.5456 - val_aux_output_loss: 1.2368\n",
      "Epoch 12/20\n",
      "363/363 [==============================] - 1s 2ms/step - loss: 0.5959 - main_output_loss: 0.5283 - aux_output_loss: 1.2038 - val_loss: 0.6074 - val_main_output_loss: 0.5396 - val_aux_output_loss: 1.2174\n",
      "Epoch 13/20\n",
      "363/363 [==============================] - 1s 2ms/step - loss: 0.5852 - main_output_loss: 0.5189 - aux_output_loss: 1.1820 - val_loss: 0.6004 - val_main_output_loss: 0.5339 - val_aux_output_loss: 1.1989\n",
      "Epoch 14/20\n",
      "363/363 [==============================] - 1s 2ms/step - loss: 0.5758 - main_output_loss: 0.5106 - aux_output_loss: 1.1622 - val_loss: 0.5965 - val_main_output_loss: 0.5316 - val_aux_output_loss: 1.1810\n",
      "Epoch 15/20\n",
      "363/363 [==============================] - 1s 2ms/step - loss: 0.5669 - main_output_loss: 0.5029 - aux_output_loss: 1.1422 - val_loss: 0.5892 - val_main_output_loss: 0.5254 - val_aux_output_loss: 1.1633\n",
      "Epoch 16/20\n",
      "363/363 [==============================] - 1s 2ms/step - loss: 0.5588 - main_output_loss: 0.4961 - aux_output_loss: 1.1232 - val_loss: 0.5845 - val_main_output_loss: 0.5221 - val_aux_output_loss: 1.1454\n",
      "Epoch 17/20\n",
      "363/363 [==============================] - 1s 2ms/step - loss: 0.5516 - main_output_loss: 0.4902 - aux_output_loss: 1.1043 - val_loss: 0.5771 - val_main_output_loss: 0.5159 - val_aux_output_loss: 1.1280\n",
      "Epoch 18/20\n",
      "363/363 [==============================] - 1s 2ms/step - loss: 0.5443 - main_output_loss: 0.4841 - aux_output_loss: 1.0862 - val_loss: 0.5762 - val_main_output_loss: 0.5167 - val_aux_output_loss: 1.1110\n",
      "Epoch 19/20\n",
      "363/363 [==============================] - 1s 2ms/step - loss: 0.5383 - main_output_loss: 0.4795 - aux_output_loss: 1.0682 - val_loss: 0.5696 - val_main_output_loss: 0.5113 - val_aux_output_loss: 1.0942\n",
      "Epoch 20/20\n",
      "363/363 [==============================] - 1s 2ms/step - loss: 0.5321 - main_output_loss: 0.4744 - aux_output_loss: 1.0511 - val_loss: 0.5652 - val_main_output_loss: 0.5084 - val_aux_output_loss: 1.0768\n"
     ]
    }
   ],
   "source": [
    "history = model.fit(\n",
    "    [X_train_A, X_train_B], \n",
    "    [y_train, y_train],\n",
    "    epochs=20, \n",
    "    validation_data=(\n",
    "    [X_valid_A, X_valid_B], \n",
    "    [y_valid, y_valid]\n",
    ")\n",
    "\n",
    ")\n"
   ]
  },
  {
   "cell_type": "code",
   "execution_count": null,
   "metadata": {},
   "outputs": [
    {
     "name": "stdout",
     "output_type": "stream",
     "text": [
      "Epoch 1/30\n",
      "363/363 [==============================] - 2s 3ms/step - loss: 0.5265 - main_output_loss: 0.4702 - aux_output_loss: 1.0337 - val_loss: 0.5601 - val_main_output_loss: 0.5045 - val_aux_output_loss: 1.0604\n",
      "Epoch 2/30\n",
      "363/363 [==============================] - 1s 2ms/step - loss: 0.5210 - main_output_loss: 0.4659 - aux_output_loss: 1.0168 - val_loss: 0.5565 - val_main_output_loss: 0.5023 - val_aux_output_loss: 1.0445\n",
      "Epoch 3/30\n",
      "363/363 [==============================] - 1s 2ms/step - loss: 0.5158 - main_output_loss: 0.4620 - aux_output_loss: 1.0003 - val_loss: 0.5529 - val_main_output_loss: 0.5000 - val_aux_output_loss: 1.0289\n",
      "Epoch 4/30\n",
      "363/363 [==============================] - 1s 2ms/step - loss: 0.5112 - main_output_loss: 0.4587 - aux_output_loss: 0.9844 - val_loss: 0.5471 - val_main_output_loss: 0.4953 - val_aux_output_loss: 1.0128\n",
      "Epoch 5/30\n",
      "363/363 [==============================] - 1s 2ms/step - loss: 0.5068 - main_output_loss: 0.4555 - aux_output_loss: 0.9684 - val_loss: 0.5445 - val_main_output_loss: 0.4942 - val_aux_output_loss: 0.9978\n",
      "Epoch 6/30\n",
      "363/363 [==============================] - 1s 2ms/step - loss: 0.5023 - main_output_loss: 0.4523 - aux_output_loss: 0.9524 - val_loss: 0.5380 - val_main_output_loss: 0.4886 - val_aux_output_loss: 0.9829\n",
      "Epoch 7/30\n",
      "363/363 [==============================] - 1s 2ms/step - loss: 0.4988 - main_output_loss: 0.4500 - aux_output_loss: 0.9379 - val_loss: 0.5343 - val_main_output_loss: 0.4861 - val_aux_output_loss: 0.9681\n",
      "Epoch 8/30\n",
      "363/363 [==============================] - 1s 2ms/step - loss: 0.4947 - main_output_loss: 0.4471 - aux_output_loss: 0.9231 - val_loss: 0.5317 - val_main_output_loss: 0.4848 - val_aux_output_loss: 0.9537\n",
      "Epoch 9/30\n",
      "363/363 [==============================] - 1s 2ms/step - loss: 0.4915 - main_output_loss: 0.4452 - aux_output_loss: 0.9083 - val_loss: 0.5286 - val_main_output_loss: 0.4828 - val_aux_output_loss: 0.9404\n",
      "Epoch 10/30\n",
      "363/363 [==============================] - 1s 2ms/step - loss: 0.4876 - main_output_loss: 0.4424 - aux_output_loss: 0.8949 - val_loss: 0.5299 - val_main_output_loss: 0.4857 - val_aux_output_loss: 0.9274\n",
      "Epoch 11/30\n",
      "363/363 [==============================] - 1s 2ms/step - loss: 0.4852 - main_output_loss: 0.4412 - aux_output_loss: 0.8811 - val_loss: 0.5239 - val_main_output_loss: 0.4805 - val_aux_output_loss: 0.9146\n",
      "Epoch 12/30\n",
      "363/363 [==============================] - 1s 2ms/step - loss: 0.4821 - main_output_loss: 0.4392 - aux_output_loss: 0.8680 - val_loss: 0.5220 - val_main_output_loss: 0.4797 - val_aux_output_loss: 0.9024\n",
      "Epoch 13/30\n",
      "363/363 [==============================] - 1s 2ms/step - loss: 0.4791 - main_output_loss: 0.4373 - aux_output_loss: 0.8551 - val_loss: 0.5207 - val_main_output_loss: 0.4796 - val_aux_output_loss: 0.8909\n",
      "Epoch 14/30\n",
      "363/363 [==============================] - 1s 2ms/step - loss: 0.4761 - main_output_loss: 0.4353 - aux_output_loss: 0.8431 - val_loss: 0.5161 - val_main_output_loss: 0.4758 - val_aux_output_loss: 0.8789\n",
      "Epoch 15/30\n",
      "363/363 [==============================] - 1s 2ms/step - loss: 0.4734 - main_output_loss: 0.4337 - aux_output_loss: 0.8306 - val_loss: 0.5134 - val_main_output_loss: 0.4741 - val_aux_output_loss: 0.8675\n",
      "Epoch 16/30\n",
      "363/363 [==============================] - 1s 2ms/step - loss: 0.4712 - main_output_loss: 0.4326 - aux_output_loss: 0.8186 - val_loss: 0.5118 - val_main_output_loss: 0.4734 - val_aux_output_loss: 0.8570\n",
      "Epoch 17/30\n",
      "363/363 [==============================] - 1s 2ms/step - loss: 0.4686 - main_output_loss: 0.4310 - aux_output_loss: 0.8068 - val_loss: 0.5103 - val_main_output_loss: 0.4730 - val_aux_output_loss: 0.8469\n",
      "Epoch 18/30\n",
      "363/363 [==============================] - 1s 2ms/step - loss: 0.4661 - main_output_loss: 0.4295 - aux_output_loss: 0.7956 - val_loss: 0.5098 - val_main_output_loss: 0.4735 - val_aux_output_loss: 0.8369\n",
      "Epoch 19/30\n",
      "363/363 [==============================] - 1s 2ms/step - loss: 0.4641 - main_output_loss: 0.4285 - aux_output_loss: 0.7850 - val_loss: 0.5099 - val_main_output_loss: 0.4745 - val_aux_output_loss: 0.8285\n",
      "Epoch 20/30\n",
      "363/363 [==============================] - 1s 2ms/step - loss: 0.4619 - main_output_loss: 0.4271 - aux_output_loss: 0.7747 - val_loss: 0.5050 - val_main_output_loss: 0.4701 - val_aux_output_loss: 0.8186\n",
      "Epoch 21/30\n",
      "363/363 [==============================] - 1s 2ms/step - loss: 0.4598 - main_output_loss: 0.4258 - aux_output_loss: 0.7649 - val_loss: 0.5055 - val_main_output_loss: 0.4716 - val_aux_output_loss: 0.8104\n",
      "Epoch 22/30\n",
      "363/363 [==============================] - 1s 2ms/step - loss: 0.4578 - main_output_loss: 0.4248 - aux_output_loss: 0.7549 - val_loss: 0.5060 - val_main_output_loss: 0.4730 - val_aux_output_loss: 0.8027\n",
      "Epoch 23/30\n",
      "363/363 [==============================] - 1s 2ms/step - loss: 0.4557 - main_output_loss: 0.4234 - aux_output_loss: 0.7459 - val_loss: 0.5036 - val_main_output_loss: 0.4712 - val_aux_output_loss: 0.7949\n",
      "Epoch 24/30\n",
      "363/363 [==============================] - 1s 2ms/step - loss: 0.4539 - main_output_loss: 0.4224 - aux_output_loss: 0.7368 - val_loss: 0.5005 - val_main_output_loss: 0.4686 - val_aux_output_loss: 0.7874\n",
      "Epoch 25/30\n",
      "363/363 [==============================] - 1s 2ms/step - loss: 0.4520 - main_output_loss: 0.4213 - aux_output_loss: 0.7285 - val_loss: 0.5001 - val_main_output_loss: 0.4689 - val_aux_output_loss: 0.7807\n",
      "Epoch 26/30\n",
      "363/363 [==============================] - 1s 2ms/step - loss: 0.4505 - main_output_loss: 0.4205 - aux_output_loss: 0.7205 - val_loss: 0.4990 - val_main_output_loss: 0.4684 - val_aux_output_loss: 0.7744\n",
      "Epoch 27/30\n",
      "363/363 [==============================] - 1s 2ms/step - loss: 0.4486 - main_output_loss: 0.4193 - aux_output_loss: 0.7124 - val_loss: 0.4980 - val_main_output_loss: 0.4679 - val_aux_output_loss: 0.7687\n",
      "Epoch 28/30\n",
      "363/363 [==============================] - 1s 2ms/step - loss: 0.4472 - main_output_loss: 0.4184 - aux_output_loss: 0.7059 - val_loss: 0.4975 - val_main_output_loss: 0.4680 - val_aux_output_loss: 0.7630\n",
      "Epoch 29/30\n",
      "363/363 [==============================] - 1s 2ms/step - loss: 0.4455 - main_output_loss: 0.4174 - aux_output_loss: 0.6984 - val_loss: 0.4988 - val_main_output_loss: 0.4699 - val_aux_output_loss: 0.7585\n",
      "Epoch 30/30\n",
      "363/363 [==============================] - 1s 2ms/step - loss: 0.4439 - main_output_loss: 0.4163 - aux_output_loss: 0.6919 - val_loss: 0.4950 - val_main_output_loss: 0.4664 - val_aux_output_loss: 0.7527\n"
     ]
    }
   ],
   "source": [
    "# since we didnt restart the model this is actually going til the 50th epoch\n",
    "history = model.fit(\n",
    "    {'wide_input': X_train_A, 'deep_input': X_train_B}, \n",
    "    {'main_output': y_train, 'aux_output': y_train},\n",
    "    epochs=30, \n",
    "    validation_data=(\n",
    "        {'wide_input': X_valid_A, 'deep_input': X_valid_B}, \n",
    "        {'main_output': y_valid, 'aux_output': y_valid}\n",
    "    )\n",
    ")\n"
   ]
  },
  {
   "cell_type": "code",
   "execution_count": 61,
   "metadata": {},
   "outputs": [
    {
     "name": "stdout",
     "output_type": "stream",
     "text": [
      "162/162 [==============================] - 0s 1ms/step - loss: 0.5177 - main_output_loss: 0.4908 - aux_output_loss: 0.7599\n"
     ]
    }
   ],
   "source": [
    "# we have two losses now\n",
    "total_loss, main_loss, aux_loss = model.evaluate([X_test_A, X_test_B], [y_test, y_test])"
   ]
  },
  {
   "cell_type": "code",
   "execution_count": 62,
   "metadata": {},
   "outputs": [
    {
     "data": {
      "text/plain": [
       "0.5177099108695984"
      ]
     },
     "execution_count": 62,
     "metadata": {},
     "output_type": "execute_result"
    }
   ],
   "source": [
    "total_loss"
   ]
  },
  {
   "cell_type": "code",
   "execution_count": 63,
   "metadata": {},
   "outputs": [
    {
     "data": {
      "text/plain": [
       "0.4907994568347931"
      ]
     },
     "execution_count": 63,
     "metadata": {},
     "output_type": "execute_result"
    }
   ],
   "source": [
    "main_loss"
   ]
  },
  {
   "cell_type": "code",
   "execution_count": 64,
   "metadata": {},
   "outputs": [
    {
     "data": {
      "text/plain": [
       "0.7599028944969177"
      ]
     },
     "execution_count": 64,
     "metadata": {},
     "output_type": "execute_result"
    }
   ],
   "source": [
    "aux_loss"
   ]
  },
  {
   "cell_type": "code",
   "execution_count": 65,
   "metadata": {},
   "outputs": [
    {
     "name": "stdout",
     "output_type": "stream",
     "text": [
      "1/1 [==============================] - 0s 72ms/step\n"
     ]
    }
   ],
   "source": [
    "# now have two predictions\n",
    "y_pred_main, y_pred_aux = model.predict([X_new_A, X_new_B])"
   ]
  },
  {
   "cell_type": "code",
   "execution_count": 66,
   "metadata": {},
   "outputs": [
    {
     "data": {
      "text/plain": [
       "array([[1.0599136],\n",
       "       [1.700481 ],\n",
       "       [2.0774426]], dtype=float32)"
      ]
     },
     "execution_count": 66,
     "metadata": {},
     "output_type": "execute_result"
    }
   ],
   "source": [
    "y_pred_aux"
   ]
  },
  {
   "cell_type": "code",
   "execution_count": 67,
   "metadata": {},
   "outputs": [
    {
     "data": {
      "text/plain": [
       "array([[0.67476404],\n",
       "       [2.0080202 ],\n",
       "       [2.7493432 ]], dtype=float32)"
      ]
     },
     "execution_count": 67,
     "metadata": {},
     "output_type": "execute_result"
    }
   ],
   "source": [
    "y_pred_main"
   ]
  },
  {
   "cell_type": "markdown",
   "metadata": {},
   "source": [
    "#### OOP Model Set-Up"
   ]
  },
  {
   "cell_type": "markdown",
   "metadata": {},
   "source": [
    "In this set up we use super() since it is a subclass of keras.models.Model so it inherits things like .fit(), .evaluate()...In the initialization we create our layers and in the call function we create the computations. This is very similar to the forward pass we did in the micrograd implementation. The method must be called call.\n",
    "\n",
    "**when using this technique, the dictionary naming of inputs and outputs does not work, use a tuple.**"
   ]
  },
  {
   "cell_type": "markdown",
   "metadata": {},
   "source": [
    "This added flexiblility includes putting for loops or other operations in the call method but we cannot save or clone it and the summary() method only shows the list of layers so stick to functional if you can."
   ]
  },
  {
   "cell_type": "code",
   "execution_count": null,
   "metadata": {},
   "outputs": [],
   "source": [
    "class WideAndDeepModel(keras.models.Model):\n",
    "    def __init__(self, units=30, activation=\"relu\", **kwargs):\n",
    "        super().__init__(**kwargs)\n",
    "        self.hidden1 = keras.layers.Dense(units, activation=activation)\n",
    "        self.hidden2 = keras.layers.Dense(units, activation=activation)\n",
    "        self.main_output = keras.layers.Dense(1)\n",
    "        self.aux_output = keras.layers.Dense(1)\n",
    "        \n",
    "    def call(self, inputs):\n",
    "        input_A, input_B = inputs\n",
    "        hidden1 = self.hidden1(input_B)\n",
    "        hidden2 = self.hidden2(hidden1)\n",
    "        concat = keras.layers.concatenate([input_A, hidden2])\n",
    "        # keras has an output attribute so rename main_output\n",
    "        main_output = self.main_output(concat)\n",
    "        aux_output = self.aux_output(hidden2)\n",
    "        return main_output, aux_output\n",
    "\n",
    "model = WideAndDeepModel(30, activation=\"relu\")"
   ]
  },
  {
   "cell_type": "code",
   "execution_count": 71,
   "metadata": {},
   "outputs": [
    {
     "name": "stdout",
     "output_type": "stream",
     "text": [
      "Epoch 1/10\n",
      "363/363 [==============================] - 1s 2ms/step - loss: 2.0047 - output_1_loss: 1.8954 - output_2_loss: 2.9883 - val_loss: 1.0551 - val_output_1_loss: 0.9474 - val_output_2_loss: 2.0241\n",
      "Epoch 2/10\n",
      "363/363 [==============================] - 1s 2ms/step - loss: 0.8979 - output_1_loss: 0.7998 - output_2_loss: 1.7806 - val_loss: 0.7942 - val_output_1_loss: 0.7163 - val_output_2_loss: 1.4956\n",
      "Epoch 3/10\n",
      "363/363 [==============================] - 1s 2ms/step - loss: 0.7122 - output_1_loss: 0.6397 - output_2_loss: 1.3643 - val_loss: 0.7286 - val_output_1_loss: 0.6697 - val_output_2_loss: 1.2590\n",
      "Epoch 4/10\n",
      "363/363 [==============================] - 1s 2ms/step - loss: 0.6511 - output_1_loss: 0.5917 - output_2_loss: 1.1852 - val_loss: 0.6821 - val_output_1_loss: 0.6291 - val_output_2_loss: 1.1595\n",
      "Epoch 5/10\n",
      "363/363 [==============================] - 1s 2ms/step - loss: 0.6111 - output_1_loss: 0.5574 - output_2_loss: 1.0941 - val_loss: 0.6496 - val_output_1_loss: 0.5995 - val_output_2_loss: 1.1007\n",
      "Epoch 6/10\n",
      "363/363 [==============================] - 1s 2ms/step - loss: 0.5812 - output_1_loss: 0.5305 - output_2_loss: 1.0375 - val_loss: 0.6213 - val_output_1_loss: 0.5726 - val_output_2_loss: 1.0596\n",
      "Epoch 7/10\n",
      "363/363 [==============================] - 1s 2ms/step - loss: 0.5579 - output_1_loss: 0.5094 - output_2_loss: 0.9950 - val_loss: 0.6019 - val_output_1_loss: 0.5546 - val_output_2_loss: 1.0273\n",
      "Epoch 8/10\n",
      "363/363 [==============================] - 1s 2ms/step - loss: 0.5395 - output_1_loss: 0.4926 - output_2_loss: 0.9617 - val_loss: 0.5858 - val_output_1_loss: 0.5400 - val_output_2_loss: 0.9980\n",
      "Epoch 9/10\n",
      "363/363 [==============================] - 1s 2ms/step - loss: 0.5250 - output_1_loss: 0.4796 - output_2_loss: 0.9330 - val_loss: 0.5708 - val_output_1_loss: 0.5263 - val_output_2_loss: 0.9713\n",
      "Epoch 10/10\n",
      "363/363 [==============================] - 1s 2ms/step - loss: 0.5132 - output_1_loss: 0.4694 - output_2_loss: 0.9070 - val_loss: 0.5623 - val_output_1_loss: 0.5192 - val_output_2_loss: 0.9504\n"
     ]
    }
   ],
   "source": [
    "# compile the model\n",
    "model.compile(optimizer=keras.optimizers.SGD(learning_rate=1e-3), loss = ['mse', 'mse'], loss_weights=[0.9, 0.1])\n",
    "\n",
    "\n",
    "history = model.fit((X_train_A, X_train_B), (y_train, y_train), epochs=10,\n",
    "                    validation_data=((X_valid_A, X_valid_B), (y_valid, y_valid)))"
   ]
  },
  {
   "cell_type": "markdown",
   "metadata": {},
   "source": [
    "#### Saving and Restoring"
   ]
  },
  {
   "cell_type": "markdown",
   "metadata": {},
   "source": [
    "Remember this only works with the sequential or functional API."
   ]
  },
  {
   "cell_type": "code",
   "execution_count": 73,
   "metadata": {},
   "outputs": [
    {
     "name": "stdout",
     "output_type": "stream",
     "text": [
      "Epoch 1/20\n",
      "363/363 [==============================] - 1s 2ms/step - loss: 2.7118 - val_loss: 0.8984\n",
      "Epoch 2/20\n",
      "363/363 [==============================] - 1s 1ms/step - loss: 0.7521 - val_loss: 0.6765\n",
      "Epoch 3/20\n",
      "363/363 [==============================] - 1s 2ms/step - loss: 0.6540 - val_loss: 0.6435\n",
      "Epoch 4/20\n",
      "363/363 [==============================] - 1s 1ms/step - loss: 0.6215 - val_loss: 0.6238\n",
      "Epoch 5/20\n",
      "363/363 [==============================] - 1s 1ms/step - loss: 0.5979 - val_loss: 0.6033\n",
      "Epoch 6/20\n",
      "363/363 [==============================] - 1s 1ms/step - loss: 0.5773 - val_loss: 0.5860\n",
      "Epoch 7/20\n",
      "363/363 [==============================] - 1s 1ms/step - loss: 0.5594 - val_loss: 0.5697\n",
      "Epoch 8/20\n",
      "363/363 [==============================] - 1s 2ms/step - loss: 0.5435 - val_loss: 0.5611\n",
      "Epoch 9/20\n",
      "363/363 [==============================] - 1s 2ms/step - loss: 0.5283 - val_loss: 0.5458\n",
      "Epoch 10/20\n",
      "363/363 [==============================] - 1s 1ms/step - loss: 0.5153 - val_loss: 0.5362\n",
      "Epoch 11/20\n",
      "363/363 [==============================] - 1s 1ms/step - loss: 0.5032 - val_loss: 0.5263\n",
      "Epoch 12/20\n",
      "363/363 [==============================] - 1s 1ms/step - loss: 0.4924 - val_loss: 0.5194\n",
      "Epoch 13/20\n",
      "363/363 [==============================] - 1s 2ms/step - loss: 0.4833 - val_loss: 0.5109\n",
      "Epoch 14/20\n",
      "363/363 [==============================] - 1s 2ms/step - loss: 0.4751 - val_loss: 0.5051\n",
      "Epoch 15/20\n",
      "363/363 [==============================] - 1s 2ms/step - loss: 0.4679 - val_loss: 0.4994\n",
      "Epoch 16/20\n",
      "363/363 [==============================] - 1s 2ms/step - loss: 0.4615 - val_loss: 0.4969\n",
      "Epoch 17/20\n",
      "363/363 [==============================] - 0s 1ms/step - loss: 0.4557 - val_loss: 0.4914\n",
      "Epoch 18/20\n",
      "363/363 [==============================] - 1s 2ms/step - loss: 0.4507 - val_loss: 0.4871\n",
      "Epoch 19/20\n",
      "363/363 [==============================] - 1s 2ms/step - loss: 0.4462 - val_loss: 0.4851\n",
      "Epoch 20/20\n",
      "363/363 [==============================] - 1s 2ms/step - loss: 0.4423 - val_loss: 0.4804\n",
      "162/162 [==============================] - 0s 922us/step - loss: 0.4995\n"
     ]
    }
   ],
   "source": [
    "# make a sequential model to be saved\n",
    "\n",
    "# when using input_shape batch size comes first so we start at 1\n",
    "# same as input_shape = [8] because X_train has 8 features\n",
    "model = keras.models.Sequential([\n",
    "    keras.layers.Dense(30, activation='relu', input_shape = X_train.shape[1:]),\n",
    "    keras.layers.Dense(1)\n",
    "])\n",
    "\n",
    "model.compile(optimizer = keras.optimizers.SGD(1e-3), loss = 'mse')\n",
    "history = model.fit(X_train, y_train, epochs = 20, validation_data=(X_valid, y_valid))\n",
    "mse_test = model.evaluate(X_test, y_test)\n"
   ]
  },
  {
   "cell_type": "code",
   "execution_count": 74,
   "metadata": {},
   "outputs": [],
   "source": [
    "model.save(\"my_keras_model.h5\")"
   ]
  },
  {
   "cell_type": "code",
   "execution_count": 76,
   "metadata": {},
   "outputs": [],
   "source": [
    "# reload the model\n",
    "model = keras.models.load_model(\"my_keras_model.h5\")"
   ]
  },
  {
   "cell_type": "code",
   "execution_count": 77,
   "metadata": {},
   "outputs": [
    {
     "name": "stdout",
     "output_type": "stream",
     "text": [
      "WARNING:tensorflow:5 out of the last 6 calls to <function Model.make_predict_function.<locals>.predict_function at 0x0000022296201CF0> triggered tf.function retracing. Tracing is expensive and the excessive number of tracings could be due to (1) creating @tf.function repeatedly in a loop, (2) passing tensors with different shapes, (3) passing Python objects instead of tensors. For (1), please define your @tf.function outside of the loop. For (2), @tf.function has reduce_retracing=True option that can avoid unnecessary retracing. For (3), please refer to https://www.tensorflow.org/guide/function#controlling_retracing and https://www.tensorflow.org/api_docs/python/tf/function for  more details.\n",
      "1/1 [==============================] - 0s 212ms/step\n"
     ]
    },
    {
     "data": {
      "text/plain": [
       "array([[0.95043904],\n",
       "       [1.4848106 ],\n",
       "       [2.608714  ]], dtype=float32)"
      ]
     },
     "execution_count": 77,
     "metadata": {},
     "output_type": "execute_result"
    }
   ],
   "source": [
    "# make predictions from saved model\n",
    "model.predict(X_new)"
   ]
  },
  {
   "cell_type": "markdown",
   "metadata": {},
   "source": [
    "#### Callbacks"
   ]
  },
  {
   "cell_type": "markdown",
   "metadata": {},
   "source": [
    "Often times training can last a long time so we should not only save the model at the end of training but also save checkpoints at regular intervals during training just incase the computer crashes. We should also tell the fit() method to save checkpoints. This is done using callbacks. "
   ]
  },
  {
   "cell_type": "code",
   "execution_count": null,
   "metadata": {},
   "outputs": [
    {
     "name": "stdout",
     "output_type": "stream",
     "text": [
      "Epoch 1/10\n",
      "363/363 [==============================] - 1s 1ms/step - loss: 0.4385\n",
      "Epoch 2/10\n",
      "363/363 [==============================] - 1s 1ms/step - loss: 0.4353\n",
      "Epoch 3/10\n",
      "363/363 [==============================] - 0s 1ms/step - loss: 0.4323\n",
      "Epoch 4/10\n",
      "363/363 [==============================] - 0s 1ms/step - loss: 0.4297\n",
      "Epoch 5/10\n",
      "363/363 [==============================] - 0s 1ms/step - loss: 0.4273\n",
      "Epoch 6/10\n",
      "363/363 [==============================] - 0s 1ms/step - loss: 0.4246\n",
      "Epoch 7/10\n",
      "363/363 [==============================] - 0s 1ms/step - loss: 0.4227\n",
      "Epoch 8/10\n",
      "363/363 [==============================] - 0s 1ms/step - loss: 0.4206\n",
      "Epoch 9/10\n",
      "363/363 [==============================] - 0s 1ms/step - loss: 0.4185\n",
      "Epoch 10/10\n",
      "363/363 [==============================] - 0s 1ms/step - loss: 0.4168\n"
     ]
    }
   ],
   "source": [
    "# create callback\n",
    "checkpoint_cb = keras.callbacks.ModelCheckpoint(\"my_keras_model.h5\")\n",
    "\n",
    "# this model will be saved at the end of each epoch\n",
    "history = model.fit(X_train, y_train, epochs=10, callbacks=[checkpoint_cb])"
   ]
  },
  {
   "cell_type": "markdown",
   "metadata": {},
   "source": [
    "To prevent training for too long and overfitting we can use early stopping. This is done with save_best_only = True. The model will still train for all epochs but not every epoch will be saved (unless it gets better each time)."
   ]
  },
  {
   "cell_type": "code",
   "execution_count": 79,
   "metadata": {},
   "outputs": [
    {
     "name": "stdout",
     "output_type": "stream",
     "text": [
      "Epoch 1/20\n",
      "363/363 [==============================] - 1s 2ms/step - loss: 0.4150 - val_loss: 0.4596\n",
      "Epoch 2/20\n",
      "363/363 [==============================] - 1s 1ms/step - loss: 0.4136 - val_loss: 0.4583\n",
      "Epoch 3/20\n",
      "363/363 [==============================] - 1s 1ms/step - loss: 0.4119 - val_loss: 0.4570\n",
      "Epoch 4/20\n",
      "363/363 [==============================] - 1s 1ms/step - loss: 0.4102 - val_loss: 0.4567\n",
      "Epoch 5/20\n",
      "363/363 [==============================] - 1s 1ms/step - loss: 0.4091 - val_loss: 0.4552\n",
      "Epoch 6/20\n",
      "363/363 [==============================] - 1s 1ms/step - loss: 0.4076 - val_loss: 0.4536\n",
      "Epoch 7/20\n",
      "363/363 [==============================] - 1s 1ms/step - loss: 0.4061 - val_loss: 0.4535\n",
      "Epoch 8/20\n",
      "363/363 [==============================] - 1s 1ms/step - loss: 0.4050 - val_loss: 0.4508\n",
      "Epoch 9/20\n",
      "363/363 [==============================] - 1s 1ms/step - loss: 0.4035 - val_loss: 0.4516\n",
      "Epoch 10/20\n",
      "363/363 [==============================] - 1s 2ms/step - loss: 0.4023 - val_loss: 0.4500\n",
      "Epoch 11/20\n",
      "363/363 [==============================] - 1s 1ms/step - loss: 0.4011 - val_loss: 0.4491\n",
      "Epoch 12/20\n",
      "363/363 [==============================] - 1s 1ms/step - loss: 0.4001 - val_loss: 0.4483\n",
      "Epoch 13/20\n",
      "363/363 [==============================] - 1s 1ms/step - loss: 0.3991 - val_loss: 0.4479\n",
      "Epoch 14/20\n",
      "363/363 [==============================] - 1s 2ms/step - loss: 0.3979 - val_loss: 0.4469\n",
      "Epoch 15/20\n",
      "363/363 [==============================] - 1s 1ms/step - loss: 0.3968 - val_loss: 0.4454\n",
      "Epoch 16/20\n",
      "363/363 [==============================] - 1s 1ms/step - loss: 0.3959 - val_loss: 0.4450\n",
      "Epoch 17/20\n",
      "363/363 [==============================] - 1s 1ms/step - loss: 0.3948 - val_loss: 0.4449\n",
      "Epoch 18/20\n",
      "363/363 [==============================] - 1s 2ms/step - loss: 0.3941 - val_loss: 0.4436\n",
      "Epoch 19/20\n",
      "363/363 [==============================] - 1s 1ms/step - loss: 0.3929 - val_loss: 0.4432\n",
      "Epoch 20/20\n",
      "363/363 [==============================] - 1s 1ms/step - loss: 0.3920 - val_loss: 0.4424\n"
     ]
    }
   ],
   "source": [
    "checkpoint_cb = keras.callbacks.ModelCheckpoint('my_keras_model.h5', save_best_only=True)\n",
    "\n",
    "# fit the model\n",
    "history = model.fit(X_train, y_train, epochs=20, validation_data=(X_valid, y_valid), callbacks=[checkpoint_cb])"
   ]
  },
  {
   "cell_type": "code",
   "execution_count": 80,
   "metadata": {},
   "outputs": [],
   "source": [
    "# load best model\n",
    "model = keras.models.load_model('my_keras_model.h5')"
   ]
  },
  {
   "cell_type": "markdown",
   "metadata": {},
   "source": [
    "This can be combined with the early stopping callback which interrupts training when it measures no progress on the validation data after a certain number of \"patience\" rounds. When we say patience = 5 it will go for 5 more epochs to check for an improvement. The restore best weights argument means after those 5 that did not improve we will go back to the one where it was improving.\n",
    "\n",
    "The following code combines both callbacks. Early stopping is used so that we do not train for 100 epochs if we do not have to and the old callback saves the best model. We did 56 epochs instead of 100 since we used early stopping. It is important to know that since we used save_best_only = True, the last epoch may not be the one that gets saved. This is because we do 5 patience rounds so the old callback already saved that model before training did not improve."
   ]
  },
  {
   "cell_type": "code",
   "execution_count": 81,
   "metadata": {},
   "outputs": [
    {
     "name": "stdout",
     "output_type": "stream",
     "text": [
      "Epoch 1/100\n",
      "363/363 [==============================] - 1s 2ms/step - loss: 0.3909 - val_loss: 0.4420\n",
      "Epoch 2/100\n",
      "363/363 [==============================] - 0s 1ms/step - loss: 0.3903 - val_loss: 0.4414\n",
      "Epoch 3/100\n",
      "363/363 [==============================] - 1s 2ms/step - loss: 0.3896 - val_loss: 0.4397\n",
      "Epoch 4/100\n",
      "363/363 [==============================] - 1s 1ms/step - loss: 0.3886 - val_loss: 0.4399\n",
      "Epoch 5/100\n",
      "363/363 [==============================] - 1s 1ms/step - loss: 0.3877 - val_loss: 0.4394\n",
      "Epoch 6/100\n",
      "363/363 [==============================] - 1s 2ms/step - loss: 0.3869 - val_loss: 0.4399\n",
      "Epoch 7/100\n",
      "363/363 [==============================] - 1s 1ms/step - loss: 0.3862 - val_loss: 0.4372\n",
      "Epoch 8/100\n",
      "363/363 [==============================] - 1s 1ms/step - loss: 0.3854 - val_loss: 0.4386\n",
      "Epoch 9/100\n",
      "363/363 [==============================] - 0s 1ms/step - loss: 0.3848 - val_loss: 0.4372\n",
      "Epoch 10/100\n",
      "363/363 [==============================] - 0s 1ms/step - loss: 0.3843 - val_loss: 0.4370\n",
      "Epoch 11/100\n",
      "363/363 [==============================] - 1s 1ms/step - loss: 0.3833 - val_loss: 0.4377\n",
      "Epoch 12/100\n",
      "363/363 [==============================] - 0s 1ms/step - loss: 0.3826 - val_loss: 0.4360\n",
      "Epoch 13/100\n",
      "363/363 [==============================] - 0s 1ms/step - loss: 0.3821 - val_loss: 0.4350\n",
      "Epoch 14/100\n",
      "363/363 [==============================] - 0s 1ms/step - loss: 0.3813 - val_loss: 0.4346\n",
      "Epoch 15/100\n",
      "363/363 [==============================] - 0s 1ms/step - loss: 0.3805 - val_loss: 0.4354\n",
      "Epoch 16/100\n",
      "363/363 [==============================] - 1s 1ms/step - loss: 0.3801 - val_loss: 0.4334\n",
      "Epoch 17/100\n",
      "363/363 [==============================] - 1s 1ms/step - loss: 0.3794 - val_loss: 0.4356\n",
      "Epoch 18/100\n",
      "363/363 [==============================] - 1s 1ms/step - loss: 0.3793 - val_loss: 0.4327\n",
      "Epoch 19/100\n",
      "363/363 [==============================] - 0s 1ms/step - loss: 0.3779 - val_loss: 0.4345\n",
      "Epoch 20/100\n",
      "363/363 [==============================] - 1s 1ms/step - loss: 0.3780 - val_loss: 0.4330\n",
      "Epoch 21/100\n",
      "363/363 [==============================] - 1s 1ms/step - loss: 0.3771 - val_loss: 0.4328\n",
      "Epoch 22/100\n",
      "363/363 [==============================] - 1s 1ms/step - loss: 0.3763 - val_loss: 0.4330\n",
      "Epoch 23/100\n",
      "363/363 [==============================] - 0s 1ms/step - loss: 0.3762 - val_loss: 0.4322\n",
      "Epoch 24/100\n",
      "363/363 [==============================] - 0s 1ms/step - loss: 0.3754 - val_loss: 0.4315\n",
      "Epoch 25/100\n",
      "363/363 [==============================] - 1s 1ms/step - loss: 0.3749 - val_loss: 0.4317\n",
      "Epoch 26/100\n",
      "363/363 [==============================] - 1s 2ms/step - loss: 0.3737 - val_loss: 0.4342\n",
      "Epoch 27/100\n",
      "363/363 [==============================] - 0s 1ms/step - loss: 0.3739 - val_loss: 0.4319\n",
      "Epoch 28/100\n",
      "363/363 [==============================] - 1s 2ms/step - loss: 0.3733 - val_loss: 0.4306\n",
      "Epoch 29/100\n",
      "363/363 [==============================] - 1s 2ms/step - loss: 0.3728 - val_loss: 0.4313\n",
      "Epoch 30/100\n",
      "363/363 [==============================] - 1s 2ms/step - loss: 0.3724 - val_loss: 0.4298\n",
      "Epoch 31/100\n",
      "363/363 [==============================] - 1s 1ms/step - loss: 0.3715 - val_loss: 0.4327\n",
      "Epoch 32/100\n",
      "363/363 [==============================] - 0s 1ms/step - loss: 0.3718 - val_loss: 0.4304\n",
      "Epoch 33/100\n",
      "363/363 [==============================] - 1s 2ms/step - loss: 0.3710 - val_loss: 0.4286\n",
      "Epoch 34/100\n",
      "363/363 [==============================] - 1s 1ms/step - loss: 0.3705 - val_loss: 0.4290\n",
      "Epoch 35/100\n",
      "363/363 [==============================] - 1s 1ms/step - loss: 0.3700 - val_loss: 0.4291\n",
      "Epoch 36/100\n",
      "363/363 [==============================] - 1s 1ms/step - loss: 0.3697 - val_loss: 0.4285\n",
      "Epoch 37/100\n",
      "363/363 [==============================] - 0s 1ms/step - loss: 0.3691 - val_loss: 0.4283\n",
      "Epoch 38/100\n",
      "363/363 [==============================] - 0s 1ms/step - loss: 0.3687 - val_loss: 0.4290\n",
      "Epoch 39/100\n",
      "363/363 [==============================] - 1s 1ms/step - loss: 0.3685 - val_loss: 0.4280\n",
      "Epoch 40/100\n",
      "363/363 [==============================] - 0s 1ms/step - loss: 0.3679 - val_loss: 0.4281\n",
      "Epoch 41/100\n",
      "363/363 [==============================] - 1s 1ms/step - loss: 0.3673 - val_loss: 0.4291\n",
      "Epoch 42/100\n",
      "363/363 [==============================] - 1s 1ms/step - loss: 0.3671 - val_loss: 0.4282\n",
      "Epoch 43/100\n",
      "363/363 [==============================] - 1s 1ms/step - loss: 0.3667 - val_loss: 0.4281\n",
      "Epoch 44/100\n",
      "363/363 [==============================] - 1s 1ms/step - loss: 0.3665 - val_loss: 0.4276\n",
      "Epoch 45/100\n",
      "363/363 [==============================] - 0s 1ms/step - loss: 0.3661 - val_loss: 0.4266\n",
      "Epoch 46/100\n",
      "363/363 [==============================] - 1s 1ms/step - loss: 0.3654 - val_loss: 0.4278\n",
      "Epoch 47/100\n",
      "363/363 [==============================] - 0s 1ms/step - loss: 0.3655 - val_loss: 0.4262\n",
      "Epoch 48/100\n",
      "363/363 [==============================] - 0s 1ms/step - loss: 0.3650 - val_loss: 0.4266\n",
      "Epoch 49/100\n",
      "363/363 [==============================] - 0s 1ms/step - loss: 0.3644 - val_loss: 0.4261\n",
      "Epoch 50/100\n",
      "363/363 [==============================] - 0s 1ms/step - loss: 0.3640 - val_loss: 0.4288\n",
      "Epoch 51/100\n",
      "363/363 [==============================] - 1s 1ms/step - loss: 0.3642 - val_loss: 0.4260\n",
      "Epoch 52/100\n",
      "363/363 [==============================] - 0s 1ms/step - loss: 0.3635 - val_loss: 0.4262\n",
      "Epoch 53/100\n",
      "363/363 [==============================] - 0s 1ms/step - loss: 0.3631 - val_loss: 0.4274\n",
      "Epoch 54/100\n",
      "363/363 [==============================] - 1s 1ms/step - loss: 0.3625 - val_loss: 0.4263\n",
      "Epoch 55/100\n",
      "363/363 [==============================] - 0s 1ms/step - loss: 0.3624 - val_loss: 0.4265\n",
      "Epoch 56/100\n",
      "363/363 [==============================] - 0s 1ms/step - loss: 0.3621 - val_loss: 0.4262\n"
     ]
    }
   ],
   "source": [
    "# early stopping\n",
    "early_stopping_cb = keras.callbacks.EarlyStopping(patience=5, restore_best_weights=True)\n",
    "\n",
    "history = model.fit(X_train, y_train, epochs=100, validation_data=(X_valid, y_valid), callbacks=[checkpoint_cb, early_stopping_cb])"
   ]
  },
  {
   "cell_type": "markdown",
   "metadata": {},
   "source": [
    "#### Custom Callbacks"
   ]
  },
  {
   "cell_type": "markdown",
   "metadata": {},
   "source": [
    "We can also make a class to implement a custom callback. This custom callback keeps track of the ratio between the training and validation error to detect overfitting."
   ]
  },
  {
   "cell_type": "code",
   "execution_count": 83,
   "metadata": {},
   "outputs": [],
   "source": [
    "class PrintValTrainRatioCallback(keras.callbacks.Callback):\n",
    "    def on_epoch_end(self, epoch, logs):\n",
    "        print(f\"\\nval/train: {logs['val_loss'] / logs['loss']:.2f}\")\n"
   ]
  },
  {
   "cell_type": "code",
   "execution_count": 85,
   "metadata": {},
   "outputs": [
    {
     "name": "stdout",
     "output_type": "stream",
     "text": [
      "Epoch 1/5\n",
      "  1/363 [..............................] - ETA: 2s - loss: 0.2624WARNING:tensorflow:Callback method `on_train_batch_begin` is slow compared to the batch time (batch time: 0.0003s vs `on_train_batch_begin` time: 0.0005s). Check your callbacks.\n",
      "318/363 [=========================>....] - ETA: 0s - loss: 0.3597\n",
      "val/train: 1.17\n",
      "363/363 [==============================] - 1s 2ms/step - loss: 0.3635 - val_loss: 0.4250\n",
      "Epoch 2/5\n",
      "315/363 [=========================>....] - ETA: 0s - loss: 0.3585\n",
      "val/train: 1.18\n",
      "363/363 [==============================] - 0s 1ms/step - loss: 0.3627 - val_loss: 0.4264\n",
      "Epoch 3/5\n",
      "324/363 [=========================>....] - ETA: 0s - loss: 0.3615\n",
      "val/train: 1.17\n",
      "363/363 [==============================] - 0s 1ms/step - loss: 0.3629 - val_loss: 0.4247\n",
      "Epoch 4/5\n",
      "293/363 [=======================>......] - ETA: 0s - loss: 0.3619\n",
      "val/train: 1.18\n",
      "363/363 [==============================] - 0s 1ms/step - loss: 0.3617 - val_loss: 0.4261\n",
      "Epoch 5/5\n",
      "300/363 [=======================>......] - ETA: 0s - loss: 0.3603\n",
      "val/train: 1.17\n",
      "363/363 [==============================] - 0s 1ms/step - loss: 0.3622 - val_loss: 0.4241\n"
     ]
    }
   ],
   "source": [
    "val_train_ratio_cb = PrintValTrainRatioCallback()\n",
    "history = model.fit(X_train, y_train, epochs=5,\n",
    "                    validation_data=(X_valid, y_valid),\n",
    "                    callbacks=[val_train_ratio_cb])"
   ]
  },
  {
   "cell_type": "markdown",
   "metadata": {},
   "source": [
    "#### Hyperparameter Tuning"
   ]
  },
  {
   "cell_type": "markdown",
   "metadata": {},
   "source": [
    "To use GridSearchCV or RandomizedSearchCV wrap the Keras models in objects that minim scikit-learn regressors. Create a function that will build and compile a Keras model given a set of hyperparameters."
   ]
  },
  {
   "cell_type": "code",
   "execution_count": 86,
   "metadata": {},
   "outputs": [],
   "source": [
    "# function to build keras model\n",
    "def build_model(n_hidden = 1, n_neurons = 30, learning_rate = 1e-3, input_shape = [8]):\n",
    "    # create the model\n",
    "    model = keras.models.Sequential()\n",
    "    # create input layer\n",
    "    model.add(keras.layers.InputLayer(input_size=input_shape))\n",
    "\n",
    "    # for each hidden layer create the same architechure\n",
    "    for layer in range(n_hidden):\n",
    "        model.add(keras.layers.Dense(n_neurons, activation='relu'))\n",
    "\n",
    "    # output layer\n",
    "    model.add(keras.layers.Dense(1))\n",
    "\n",
    "    # optimizer\n",
    "    optimizer = keras.optimizers.SGD(learning_rate=learning_rate)\n",
    "\n",
    "    # compile\n",
    "    model.compile(loss = 'mse', optimizer = optimizer)\n",
    "\n",
    "    return model\n",
    "\n"
   ]
  },
  {
   "cell_type": "code",
   "execution_count": null,
   "metadata": {},
   "outputs": [],
   "source": []
  }
 ],
 "metadata": {
  "kernelspec": {
   "display_name": "tensorflow_keras",
   "language": "python",
   "name": "python3"
  },
  "language_info": {
   "codemirror_mode": {
    "name": "ipython",
    "version": 3
   },
   "file_extension": ".py",
   "mimetype": "text/x-python",
   "name": "python",
   "nbconvert_exporter": "python",
   "pygments_lexer": "ipython3",
   "version": "3.10.9"
  }
 },
 "nbformat": 4,
 "nbformat_minor": 2
}
